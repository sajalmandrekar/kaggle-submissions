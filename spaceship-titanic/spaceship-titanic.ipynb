{
 "cells": [
  {
   "cell_type": "code",
   "execution_count": 2,
   "metadata": {},
   "outputs": [],
   "source": [
    "import pandas as pd\n",
    "import numpy as np\n",
    "import matplotlib.pyplot as plt\n",
    "import seaborn as sns"
   ]
  },
  {
   "cell_type": "code",
   "execution_count": 32,
   "metadata": {},
   "outputs": [],
   "source": [
    "train_data = pd.read_csv(\"train.csv\")\n",
    "test_data = pd.read_csv(\"test.csv\")"
   ]
  },
  {
   "cell_type": "code",
   "execution_count": 23,
   "metadata": {},
   "outputs": [
    {
     "data": {
      "text/html": [
       "<div>\n",
       "<style scoped>\n",
       "    .dataframe tbody tr th:only-of-type {\n",
       "        vertical-align: middle;\n",
       "    }\n",
       "\n",
       "    .dataframe tbody tr th {\n",
       "        vertical-align: top;\n",
       "    }\n",
       "\n",
       "    .dataframe thead th {\n",
       "        text-align: right;\n",
       "    }\n",
       "</style>\n",
       "<table border=\"1\" class=\"dataframe\">\n",
       "  <thead>\n",
       "    <tr style=\"text-align: right;\">\n",
       "      <th></th>\n",
       "      <th>Age</th>\n",
       "      <th>RoomService</th>\n",
       "      <th>FoodCourt</th>\n",
       "      <th>ShoppingMall</th>\n",
       "      <th>Spa</th>\n",
       "      <th>VRDeck</th>\n",
       "      <th>Transported</th>\n",
       "    </tr>\n",
       "  </thead>\n",
       "  <tbody>\n",
       "    <tr>\n",
       "      <th>Age</th>\n",
       "      <td>1.000000</td>\n",
       "      <td>0.068723</td>\n",
       "      <td>0.130421</td>\n",
       "      <td>0.033133</td>\n",
       "      <td>0.123970</td>\n",
       "      <td>0.101007</td>\n",
       "      <td>-0.075026</td>\n",
       "    </tr>\n",
       "    <tr>\n",
       "      <th>RoomService</th>\n",
       "      <td>0.068723</td>\n",
       "      <td>1.000000</td>\n",
       "      <td>-0.015889</td>\n",
       "      <td>0.054480</td>\n",
       "      <td>0.010080</td>\n",
       "      <td>-0.019581</td>\n",
       "      <td>-0.244611</td>\n",
       "    </tr>\n",
       "    <tr>\n",
       "      <th>FoodCourt</th>\n",
       "      <td>0.130421</td>\n",
       "      <td>-0.015889</td>\n",
       "      <td>1.000000</td>\n",
       "      <td>-0.014228</td>\n",
       "      <td>0.221891</td>\n",
       "      <td>0.227995</td>\n",
       "      <td>0.046566</td>\n",
       "    </tr>\n",
       "    <tr>\n",
       "      <th>ShoppingMall</th>\n",
       "      <td>0.033133</td>\n",
       "      <td>0.054480</td>\n",
       "      <td>-0.014228</td>\n",
       "      <td>1.000000</td>\n",
       "      <td>0.013879</td>\n",
       "      <td>-0.007322</td>\n",
       "      <td>0.010141</td>\n",
       "    </tr>\n",
       "    <tr>\n",
       "      <th>Spa</th>\n",
       "      <td>0.123970</td>\n",
       "      <td>0.010080</td>\n",
       "      <td>0.221891</td>\n",
       "      <td>0.013879</td>\n",
       "      <td>1.000000</td>\n",
       "      <td>0.153821</td>\n",
       "      <td>-0.221131</td>\n",
       "    </tr>\n",
       "    <tr>\n",
       "      <th>VRDeck</th>\n",
       "      <td>0.101007</td>\n",
       "      <td>-0.019581</td>\n",
       "      <td>0.227995</td>\n",
       "      <td>-0.007322</td>\n",
       "      <td>0.153821</td>\n",
       "      <td>1.000000</td>\n",
       "      <td>-0.207075</td>\n",
       "    </tr>\n",
       "    <tr>\n",
       "      <th>Transported</th>\n",
       "      <td>-0.075026</td>\n",
       "      <td>-0.244611</td>\n",
       "      <td>0.046566</td>\n",
       "      <td>0.010141</td>\n",
       "      <td>-0.221131</td>\n",
       "      <td>-0.207075</td>\n",
       "      <td>1.000000</td>\n",
       "    </tr>\n",
       "  </tbody>\n",
       "</table>\n",
       "</div>"
      ],
      "text/plain": [
       "                   Age  RoomService  FoodCourt  ShoppingMall       Spa  \\\n",
       "Age           1.000000     0.068723   0.130421      0.033133  0.123970   \n",
       "RoomService   0.068723     1.000000  -0.015889      0.054480  0.010080   \n",
       "FoodCourt     0.130421    -0.015889   1.000000     -0.014228  0.221891   \n",
       "ShoppingMall  0.033133     0.054480  -0.014228      1.000000  0.013879   \n",
       "Spa           0.123970     0.010080   0.221891      0.013879  1.000000   \n",
       "VRDeck        0.101007    -0.019581   0.227995     -0.007322  0.153821   \n",
       "Transported  -0.075026    -0.244611   0.046566      0.010141 -0.221131   \n",
       "\n",
       "                VRDeck  Transported  \n",
       "Age           0.101007    -0.075026  \n",
       "RoomService  -0.019581    -0.244611  \n",
       "FoodCourt     0.227995     0.046566  \n",
       "ShoppingMall -0.007322     0.010141  \n",
       "Spa           0.153821    -0.221131  \n",
       "VRDeck        1.000000    -0.207075  \n",
       "Transported  -0.207075     1.000000  "
      ]
     },
     "execution_count": 23,
     "metadata": {},
     "output_type": "execute_result"
    }
   ],
   "source": [
    "#display the correlation matrix\n",
    "train_data.corr()\n",
    "\n",
    "#observations\n",
    "# age can be dropped\n",
    "# room service dropped\n",
    "# food court, shopping mall, spa, vr deck dropped\n",
    "# all numerical features needs to be dropped"
   ]
  },
  {
   "cell_type": "code",
   "execution_count": 24,
   "metadata": {},
   "outputs": [
    {
     "data": {
      "text/plain": [
       "PassengerId     8693\n",
       "HomePlanet      8492\n",
       "CryoSleep       8476\n",
       "Cabin           8494\n",
       "Destination     8511\n",
       "Age             8514\n",
       "VIP             8490\n",
       "RoomService     8512\n",
       "FoodCourt       8510\n",
       "ShoppingMall    8485\n",
       "Spa             8510\n",
       "VRDeck          8505\n",
       "Name            8493\n",
       "Transported     8693\n",
       "dtype: int64"
      ]
     },
     "execution_count": 24,
     "metadata": {},
     "output_type": "execute_result"
    }
   ],
   "source": [
    "train_data.count()"
   ]
  },
  {
   "cell_type": "code",
   "execution_count": 33,
   "metadata": {},
   "outputs": [
    {
     "name": "stdout",
     "output_type": "stream",
     "text": [
      "0    0\n",
      "1    1\n",
      "2    0\n",
      "3    0\n",
      "4    1\n",
      "Name: Transported, dtype: int64\n",
      "0    0.0\n",
      "1    0.0\n",
      "2    0.0\n",
      "3    0.0\n",
      "4    0.0\n",
      "Name: CryoSleep, dtype: float64\n"
     ]
    }
   ],
   "source": [
    "#Transported: convert boolean to numeric\n",
    "train_data['Transported'].replace([True,False],[1,0],inplace=True)\n",
    "print(train_data['Transported'].head())\n",
    "\n",
    "train_data['CryoSleep'].replace([True,False],[int(1),int(0)],inplace=True)\n",
    "print(train_data['CryoSleep'].head())"
   ]
  },
  {
   "cell_type": "code",
   "execution_count": 27,
   "metadata": {},
   "outputs": [
    {
     "data": {
      "text/plain": [
       "<seaborn.axisgrid.FacetGrid at 0x7f6e10f155b0>"
      ]
     },
     "execution_count": 27,
     "metadata": {},
     "output_type": "execute_result"
    },
    {
     "data": {
      "image/png": "[encoded data removed]",
      "text/plain": [
       "<Figure size 360x360 with 1 Axes>"
      ]
     },
     "metadata": {
      "needs_background": "light"
     },
     "output_type": "display_data"
    }
   ],
   "source": [
    "#use seaborn to plot relation btwn HomePlanet and Transported\n",
    "sns.catplot(data=train_data,x='HomePlanet',y='Transported')"
   ]
  },
  {
   "cell_type": "code",
   "execution_count": 28,
   "metadata": {},
   "outputs": [
    {
     "name": "stdout",
     "output_type": "stream",
     "text": [
      "missing values: 201\n",
      "HomePlanet: Earth and Transported: True >  1951\n",
      "HomePlanet: Earth >  4602\n",
      "HomePlanet: Mars and Transported: True >  920\n",
      "HomePlanet: Mars >  1759\n",
      "HomePlanet: Europa and Transported: True >  1404\n",
      "HomePlanet: Europa >  2131\n"
     ]
    }
   ],
   "source": [
    "print(\"missing values:\",train_data['PassengerId'].count() - train_data['HomePlanet'].count())\n",
    "\n",
    "#find HomePlanet earth and Transported = true, total earth\n",
    "print(\"HomePlanet: Earth and Transported: True > \",len(train_data[(train_data.HomePlanet=='Earth') & (train_data.Transported==True)]))\n",
    "print(\"HomePlanet: Earth > \",len(train_data[(train_data.HomePlanet=='Earth')]))\n",
    "\n",
    "print(\"HomePlanet: Mars and Transported: True > \",len(train_data[(train_data.HomePlanet=='Mars') & (train_data.Transported==True)]))\n",
    "print(\"HomePlanet: Mars > \",len(train_data[(train_data.HomePlanet=='Mars')]))\n",
    "\n",
    "print(\"HomePlanet: Europa and Transported: True > \",len(train_data[(train_data.HomePlanet=='Europa') & (train_data.Transported==True)]))\n",
    "print(\"HomePlanet: Europa > \",len(train_data[(train_data.HomePlanet=='Europa')]))\n",
    "\n",
    "#HomePlanet can be dropped"
   ]
  },
  {
   "cell_type": "code",
   "execution_count": 34,
   "metadata": {},
   "outputs": [
    {
     "name": "stdout",
     "output_type": "stream",
     "text": [
      "CryoSleep\n",
      "Values count: 219\n",
      "Values: {0.0, 1.0, nan, nan, nan, nan, nan, nan, nan, nan, nan, nan, nan, nan, nan, nan, nan, nan, nan, nan, nan, nan, nan, nan, nan, nan, nan, nan, nan, nan, nan, nan, nan, nan, nan, nan, nan, nan, nan, nan, nan, nan, nan, nan, nan, nan, nan, nan, nan, nan, nan, nan, nan, nan, nan, nan, nan, nan, nan, nan, nan, nan, nan, nan, nan, nan, nan, nan, nan, nan, nan, nan, nan, nan, nan, nan, nan, nan, nan, nan, nan, nan, nan, nan, nan, nan, nan, nan, nan, nan, nan, nan, nan, nan, nan, nan, nan, nan, nan, nan, nan, nan, nan, nan, nan, nan, nan, nan, nan, nan, nan, nan, nan, nan, nan, nan, nan, nan, nan, nan, nan, nan, nan, nan, nan, nan, nan, nan, nan, nan, nan, nan, nan, nan, nan, nan, nan, nan, nan, nan, nan, nan, nan, nan, nan, nan, nan, nan, nan, nan, nan, nan, nan, nan, nan, nan, nan, nan, nan, nan, nan, nan, nan, nan, nan, nan, nan, nan, nan, nan, nan, nan, nan, nan, nan, nan, nan, nan, nan, nan, nan, nan, nan, nan, nan, nan, nan, nan, nan, nan, nan, nan, nan, nan, nan, nan, nan, nan, nan, nan, nan, nan, nan, nan, nan, nan, nan, nan, nan, nan, nan, nan, nan, nan, nan, nan, nan, nan, nan}\n",
      "missing values: 217\n"
     ]
    }
   ],
   "source": [
    "# CryoSleep vs Transported\n",
    "homeplanet_v = set(train_data['CryoSleep'])\n",
    "print(\"CryoSleep\")\n",
    "print(\"Values count:\",len(homeplanet_v))\n",
    "print(\"Values:\",set(homeplanet_v))\n",
    "print(\"missing values:\",train_data['PassengerId'].count() - train_data['CryoSleep'].count())"
   ]
  },
  {
   "cell_type": "code",
   "execution_count": 35,
   "metadata": {},
   "outputs": [
    {
     "data": {
      "text/plain": [
       "<seaborn.axisgrid.FacetGrid at 0x7f6e20294c10>"
      ]
     },
     "execution_count": 35,
     "metadata": {},
     "output_type": "execute_result"
    },
    {
     "data": {
      "image/png": "[encoded data removed]",
      "text/plain": [
       "<Figure size 360x360 with 1 Axes>"
      ]
     },
     "metadata": {
      "needs_background": "light"
     },
     "output_type": "display_data"
    }
   ],
   "source": [
    "#use seaborn to plot relation btwn CryoSleep and Transported\n",
    "sns.catplot(data=train_data,x='CryoSleep',y='Transported')"
   ]
  },
  {
   "cell_type": "code",
   "execution_count": 36,
   "metadata": {},
   "outputs": [
    {
     "name": "stdout",
     "output_type": "stream",
     "text": [
      "CryoSleep:True & Transported: True >  2483\n",
      "CryoSleep:True & Transported: False >  554\n",
      "CryoSleep:True >  3037\n",
      "CryoSleep:False and Transported: True >  1789\n",
      "CryoSleep:False and Transported: False >  3650\n",
      "CryoSleep:False >  5439\n",
      "probability of Transported if cryosleep is true: 0.8175831412578202\n",
      "probability of Transported if cryosleep is false: 0.3289207574921861\n"
     ]
    }
   ],
   "source": [
    "#find CryoSleep and Transported = true,\n",
    "count_cry_trans_tt = len(train_data[(train_data.CryoSleep==1) & (train_data.Transported==True)])\n",
    "count_cry_trans_tf = len(train_data[(train_data.CryoSleep==1) & (train_data.Transported==False)])\n",
    "count_cry_t = len(train_data[(train_data.CryoSleep==1)])\n",
    "\n",
    "count_cry_trans_ft = len(train_data[(train_data.CryoSleep==0) & (train_data.Transported==True)])\n",
    "count_cry_trans_ff = len(train_data[(train_data.CryoSleep==0) & (train_data.Transported==False)])\n",
    "count_cry_f = len(train_data[(train_data.CryoSleep==0)])\n",
    "\n",
    "print(\"CryoSleep:True & Transported: True > \",count_cry_trans_tt)\n",
    "print(\"CryoSleep:True & Transported: False > \",count_cry_trans_tf)\n",
    "print(\"CryoSleep:True > \",count_cry_t)\n",
    "\n",
    "\n",
    "print(\"CryoSleep:False and Transported: True > \",count_cry_trans_ft)\n",
    "print(\"CryoSleep:False and Transported: False > \",count_cry_trans_ff)\n",
    "\n",
    "print(\"CryoSleep:False > \",count_cry_f)\n",
    "\n",
    "#observations:\n",
    "print(\"probability of Transported if cryosleep is true:\",count_cry_trans_tt/count_cry_t)   #P(T=1|C=1) = P(T=1 & C=1)/P(c=1)\n",
    "print(\"probability of Transported if cryosleep is false:\",count_cry_trans_ft/count_cry_f)   #P(T=1|C=0) = P(T=1 & C=0)/P(c=0)\n",
    "\n",
    "# CryoSleep should be considered"
   ]
  },
  {
   "cell_type": "code",
   "execution_count": 46,
   "metadata": {},
   "outputs": [
    {
     "name": "stdout",
     "output_type": "stream",
     "text": [
      "8693 8693\n",
      "0    0.0\n",
      "1    0.0\n",
      "2    0.0\n",
      "3    0.0\n",
      "4    0.0\n",
      "Name: CryoSleep, dtype: object\n"
     ]
    }
   ],
   "source": [
    "#treat missing values\n",
    "\n",
    "#fill missing values with mode\n",
    "train_data['CryoSleep'] = train_data['CryoSleep'].fillna(train_data['CryoSleep'].mode)\n",
    "print(train_data['CryoSleep'].count(), train_data['PassengerId'].count())\n",
    "print(train_data['CryoSleep'].head())"
   ]
  },
  {
   "cell_type": "code",
   "execution_count": 52,
   "metadata": {},
   "outputs": [
    {
     "name": "stdout",
     "output_type": "stream",
     "text": [
      "Cabin count: 8494\n",
      "Missing values: 199\n",
      "Unique Values count Cabin: 6561\n"
     ]
    }
   ],
   "source": [
    "#Cabin vs Transported\n",
    "count_cabin = train_data['Cabin'].count()\n",
    "missing_cabin = train_data['PassengerId'].count() - count_cabin\n",
    "print(\"Cabin count:\",count_cabin)\n",
    "print(\"Missing values:\",missing_cabin)\n",
    "print(\"Unique Values count Cabin:\",len(set(train_data['Cabin'])))\n",
    "\n",
    "#observation\n",
    "# drop column Cabin as it has 6500+ different unique values"
   ]
  }
 ],
 "metadata": {
  "kernelspec": {
   "display_name": "Python 3.9.12 ('base')",
   "language": "python",
   "name": "python3"
  },
  "language_info": {
   "codemirror_mode": {
    "name": "ipython",
    "version": 3
   },
   "file_extension": ".py",
   "mimetype": "text/x-python",
   "name": "python",
   "nbconvert_exporter": "python",
   "pygments_lexer": "ipython3",
   "version": "3.9.12"
  },
  "orig_nbformat": 4,
  "vscode": {
   "interpreter": {
    "hash": "b70ba2736b69df6f47114f12c163d962e2a4ce504ec97c66e369d76da75e0bed"
   }
  }
 },
 "nbformat": 4,
 "nbformat_minor": 2
}
